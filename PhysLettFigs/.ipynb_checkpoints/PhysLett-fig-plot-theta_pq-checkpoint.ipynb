{
 "cells": [
  {
   "cell_type": "code",
   "execution_count": 1,
   "metadata": {
    "collapsed": false
   },
   "outputs": [],
   "source": [
    "import pandas as pd, matplotlib , matplotlib.pyplot as plt, matplotlib.lines\n",
    "%matplotlib inline"
   ]
  },
  {
   "cell_type": "code",
   "execution_count": 2,
   "metadata": {
    "collapsed": false
   },
   "outputs": [],
   "source": [
    "dataQ21 = pd.read_csv('data/figQ21.dat', index_col=False)\n",
    "dataQ21;"
   ]
  },
  {
   "cell_type": "code",
   "execution_count": 3,
   "metadata": {
    "collapsed": true
   },
   "outputs": [],
   "source": [
    "dataQ22 = pd.read_csv('data/figQ22.dat', index_col=False)\n",
    "dataQ22;"
   ]
  },
  {
   "cell_type": "code",
   "execution_count": 4,
   "metadata": {
    "collapsed": false
   },
   "outputs": [],
   "source": [
    "data = dataQ22"
   ]
  },
  {
   "cell_type": "code",
   "execution_count": 5,
   "metadata": {
    "collapsed": false
   },
   "outputs": [],
   "source": [
    "data = data[(data.bin!=0) | (data.Setup=='kin4')]"
   ]
  },
  {
   "cell_type": "code",
   "execution_count": 6,
   "metadata": {
    "collapsed": false
   },
   "outputs": [],
   "source": [
    "data;"
   ]
  },
  {
   "cell_type": "code",
   "execution_count": 9,
   "metadata": {
    "collapsed": false
   },
   "outputs": [],
   "source": [
    "x = data.X\n",
    "xerr = data.dX\n",
    "xList = [data.X[data.Setup=='kin1'],data.X[data.Setup=='kin2'],data.X[data.Setup=='kin3'],data.X[data.Setup=='kin4']]\n",
    "xerrList = [data.dX[data.Setup=='kin1'],data.dX[data.Setup=='kin2'],data.dX[data.Setup=='kin3'],data.dX[data.Setup=='kin4']]"
   ]
  },
  {
   "cell_type": "code",
   "execution_count": 10,
   "metadata": {
    "collapsed": true
   },
   "outputs": [],
   "source": [
    "y = data.R3D / data.H\n",
    "yerr = -data.dR3D / data.H\n",
    "yList = [data.R3D[data.Setup=='kin1']/data.H[data.Setup=='kin1'],\n",
    "         data.R3D[data.Setup=='kin2']/data.H[data.Setup=='kin2'],\n",
    "         data.R3D[data.Setup=='kin3']/data.H[data.Setup=='kin3'],\n",
    "         data.R3D[data.Setup=='kin4']/data.H[data.Setup=='kin4']]\n",
    "yerrList = [-data.dR3D[data.Setup=='kin1']/data.H[data.Setup=='kin1'],\n",
    "         -data.dR3D[data.Setup=='kin2']/data.H[data.Setup=='kin2'],\n",
    "         -data.dR3D[data.Setup=='kin3']/data.H[data.Setup=='kin3'],\n",
    "         -data.dR3D[data.Setup=='kin4']/data.H[data.Setup=='kin4']]"
   ]
  },
  {
   "cell_type": "code",
   "execution_count": 11,
   "metadata": {
    "collapsed": false
   },
   "outputs": [],
   "source": [
    "xArenhovel = x\n",
    "yArehnovel = data.M7 / data.H"
   ]
  },
  {
   "cell_type": "code",
   "execution_count": 12,
   "metadata": {
    "collapsed": false
   },
   "outputs": [],
   "source": [
    "x,xerr,y,yerr;"
   ]
  },
  {
   "cell_type": "code",
   "execution_count": 58,
   "metadata": {
    "collapsed": false
   },
   "outputs": [
    {
     "data": {
      "image/png": "[encoded data removed]",
      "text/plain": [
       "<matplotlib.figure.Figure at 0x1190e1a90>"
      ]
     },
     "metadata": {},
     "output_type": "display_data"
    }
   ],
   "source": [
    "fig = plt.figure()\n",
    "colorList = ['black','black','black','black']\n",
    "markerList= ['v','s','o','^']\n",
    "for i in range(len(xList)):\n",
    "    plt.scatter(xList[i], yList[i], color = colorList[i],\n",
    "                 marker= markerList[i],\n",
    "                 label='kin-%d'%(i+1))\n",
    "    plt.errorbar(xList[i], yList[i], \n",
    "                 xerr=[xerrList[i],xerrList[i]], yerr=[yerrList[i],yerrList[i]],\n",
    "                 color = colorList[i],\n",
    "                 marker= markerList[i],\n",
    "                 linestyle = 'none')\n",
    "plt.xlabel('$\\\\theta_{p,q}$ [deg.]',fontsize=22)\n",
    "plt.ylabel( r'$\\frac{(p_{x}/p_{z})_{^{2}H}}{(p_{x}/p_{z})_{H}}$',fontsize=25)\n",
    "ax = fig.add_subplot(111)\n",
    "ax.text( 2, 1.2 , \"preliminary\" , fontsize=40 , color='red' , alpha = 0.15 )\n",
    "ax.grid(True,linestyle='-',color='0.75')\n",
    "matplotlib.pyplot.axhspan(ymin=1, ymax=1, xmin=0, xmax=1,linestyle='--')\n",
    "plt.scatter(xArenhovel , yArehnovel, marker='*', color='r',label='HA')\n",
    "ax.legend(scatterpoints=1)\n",
    "plt.savefig(\"/Users/erezcohen/Desktop/theta_pq.pdf\")"
   ]
  },
  {
   "cell_type": "code",
   "execution_count": null,
   "metadata": {
    "collapsed": true
   },
   "outputs": [],
   "source": []
  }
 ],
 "metadata": {
  "kernelspec": {
   "display_name": "Python 2",
   "language": "python",
   "name": "python2"
  },
  "language_info": {
   "codemirror_mode": {
    "name": "ipython",
    "version": 2
   },
   "file_extension": ".py",
   "mimetype": "text/x-python",
   "name": "python",
   "nbconvert_exporter": "python",
   "pygments_lexer": "ipython2",
   "version": "2.7.11"
  }
 },
 "nbformat": 4,
 "nbformat_minor": 1
}
